{
 "cells": [
  {
   "cell_type": "code",
   "execution_count": 1,
   "metadata": {},
   "outputs": [],
   "source": [
    "# copy directly the sheets columns for ease of access.\n",
    "# just ease of access yo... makes the title headers... soo...many... title... headers\n",
    "# its for choreog audition feedback.\n",
    "# https://docs.google.com/document/d/1emqtOElx0c54fdaAzGJJDDHXFkufRmuTYHQj5FpSidI/edit#heading=h.qg72k2qhbn23\n",
    "\n",
    "hello = \"\"\"Angela Jiao\tGuy Hiphop\n",
    "Angela Yuan\tGirl Hiphop\n",
    "Angela Yuan\tGuy Hiphop\n",
    "Bridget Li\tGuy Hiphop\n",
    "Bridget Li\tGirl Hiphop\n",
    "Cecilia Huang\tGirl Hiphop\n",
    "Claire Zheng\tTraditional\n",
    "Dora Hu\tTraditional\n",
    "Dora Hu\tContemp\n",
    "Eva Goldie\tGirl Hiphop\n",
    "Eva Goldie\tGuy Hiphop\n",
    "Eva Goldie\tContemp\n",
    "Jolie Duquene\tTraditional\n",
    "Kingston Lew\tGuy Hiphop\n",
    "Melody Yu\tGuy Hiphop\n",
    "Mingzhen (Cynthia) Qi\tGuy Hiphop\n",
    "Robin Xiong\tGirl Hiphop\n",
    "Robin Xiong\tGuy Hiphop\n",
    "Samantha Belleman\tGuy Hiphop\n",
    "Samantha Belleman\tGirl Hiphop\n",
    "Sebastian Zhu\tGuy Hiphop\n",
    "Sol Robert\tGuy Hiphop\n",
    "Sol Robert\tGirl Hiphop\n",
    "Vivian Han\tTraditional\n",
    "Vivian Han\tGuy Hiphop\n",
    "Xinghui (Tricia) Hu\tContemp\n",
    "Yeefay Li\tTraditional\n",
    "Zhixing Chen\tGirl Hiphop\n",
    "Zhixing Chen\tGuy Hiphop\"\"\""
   ]
  },
  {
   "cell_type": "code",
   "execution_count": 4,
   "metadata": {},
   "outputs": [
    {
     "name": "stdout",
     "output_type": "stream",
     "text": [
      "Angela Jiao (Guy Hiphop)\n",
      "Angela Yuan (Girl Hiphop)\n",
      "Angela Yuan (Guy Hiphop)\n",
      "Bridget Li (Guy Hiphop)\n",
      "Bridget Li (Girl Hiphop)\n",
      "Cecilia Huang (Girl Hiphop)\n",
      "Claire Zheng (Traditional)\n",
      "Dora Hu (Traditional)\n",
      "Dora Hu (Contemp)\n",
      "Eva Goldie (Girl Hiphop)\n",
      "Eva Goldie (Guy Hiphop)\n",
      "Eva Goldie (Contemp)\n",
      "Jolie Duquene (Traditional)\n",
      "Kingston Lew (Guy Hiphop)\n",
      "Melody Yu (Guy Hiphop)\n",
      "Mingzhen (Cynthia) Qi (Guy Hiphop)\n",
      "Robin Xiong (Girl Hiphop)\n",
      "Robin Xiong (Guy Hiphop)\n",
      "Samantha Belleman (Guy Hiphop)\n",
      "Samantha Belleman (Girl Hiphop)\n",
      "Sebastian Zhu (Guy Hiphop)\n",
      "Sol Robert (Guy Hiphop)\n",
      "Sol Robert (Girl Hiphop)\n",
      "Vivian Han (Traditional)\n",
      "Vivian Han (Guy Hiphop)\n",
      "Xinghui (Tricia) Hu (Contemp)\n",
      "Yeefay Li (Traditional)\n",
      "Zhixing Chen (Girl Hiphop)\n",
      "Zhixing Chen (Guy Hiphop\n"
     ]
    }
   ],
   "source": [
    "tmp = hello.replace('\\n', ')\\n').replace('\\t', ' (')\n",
    "for line in tmp.split('\\n'):\n",
    "    print(line)"
   ]
  }
 ],
 "metadata": {
  "kernelspec": {
   "display_name": "Python 3",
   "language": "python",
   "name": "python3"
  },
  "language_info": {
   "codemirror_mode": {
    "name": "ipython",
    "version": 3
   },
   "file_extension": ".py",
   "mimetype": "text/x-python",
   "name": "python",
   "nbconvert_exporter": "python",
   "pygments_lexer": "ipython3",
   "version": "3.10.11"
  }
 },
 "nbformat": 4,
 "nbformat_minor": 2
}
