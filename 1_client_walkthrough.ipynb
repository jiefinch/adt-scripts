{
 "cells": [
  {
   "cell_type": "markdown",
   "metadata": {},
   "source": [
    "# Memetown\n",
    "\n",
    "just follow this [guide](https://medium.com/daily-python/python-script-to-edit-google-sheets-daily-python-7-aadce27846c0) up to **Install the following libraries**\n",
    "\n",
    "You should now have\n",
    "1. a json client file (client_secret.json) in the adt-scripts directory\n",
    "2. a scripts email (ex: hanjie@adt-scripts.iam.gserviceaccount.com)\n",
    "\n",
    "Before running any code, **make sure the sheets you want to work with is shared with your scripts email**\n"
   ]
  }
 ],
 "metadata": {
  "language_info": {
   "name": "python"
  }
 },
 "nbformat": 4,
 "nbformat_minor": 2
}
