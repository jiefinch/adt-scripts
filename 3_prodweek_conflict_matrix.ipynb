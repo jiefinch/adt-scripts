{
 "cells": [
  {
   "cell_type": "markdown",
   "metadata": {},
   "source": [
    "# Prodweek Conflict Matrix Generator\n",
    "This is to help create prodweek schedule for cleaning / staging. Outputs directly onto Prodweek Conflict Form spreadsheet.\\\n",
    "\n",
    "**BEFORE YOU START:**\n",
    "1. make sure to share the conflict sheets with ur scripts acc (example: hanjie@adt-scripts.iam.gserviceaccount.com)\n",
    "2. make sure you have a client file (example: client_secret.json) in the directory\n",
    "\n",
    "**TIMES TO RUN:**\n",
    "1. Night that prodweek conflict form is due"
   ]
  },
  {
   "cell_type": "markdown",
   "metadata": {},
   "source": [
    "## Defaults\n",
    "Edit values!\n",
    "\n",
    "1. `sheet_name` name of the Prodweek Conflict form responses\n",
    "2. `response_worksheet_name` name of the worksheet that we want to work off of (will either be the first sheet or an edited version that removed duplicate submissions, bad excuses, etc)\n",
    "3. `create_new_worksheet` True if the named worksheet does not already exist (will create new worksheets). False if the named worksheet already exists (will update the existing).\n",
    "4. `named` True to append a suffix to generated worksheet names. False to use just the default ['cleaning conflicts matrix', 'cleaning excuses matrix', 'staging conflicts matrix', 'staging excuses matrix']\n",
    "5. `name_of_run` suffix to attatch to worksheet name. example: 'cleaning conflicts matrix (edited)'\n"
   ]
  },
  {
   "cell_type": "code",
   "execution_count": 50,
   "metadata": {},
   "outputs": [],
   "source": [
    "# Orignal Code author: cindywang'22, Spring 2022\n",
    "# Notebook author: j13'24, Fall 2023\n",
    "# Last updated: j13'24, Fall 2023\n",
    "\n",
    "sheet_name = \"[Fall 2023] Prod Week Conflicts (Responses)\"\n",
    "response_worksheet_name = 'edited responses'\n",
    "create_new_worksheet = True\n",
    "named = True\n",
    "name_of_run = \"(edited)\""
   ]
  },
  {
   "cell_type": "markdown",
   "metadata": {},
   "source": [
    "1. `dance_list` a string of dance names from the Prodweek Conflict form split by tab values or \\t.\n",
    "2. `dances` a list of dance names.\n",
    "\n",
    "For ease you can copy the Master Roster spreadsheet heading, which will give you a string for dance_list. You can input dance names not included either directly into the string (add \\t so it can be splitted), or append it later to the dances list. \n",
    "\n",
    "**Debugging note: Dance names should match the Prodweek Conflict form EXACTLY, and include ALL dances on the form**"
   ]
  },
  {
   "cell_type": "code",
   "execution_count": 16,
   "metadata": {},
   "outputs": [
    {
     "data": {
      "text/plain": [
       "['Exec Interlude',\n",
       " 'Super',\n",
       " 'Dreams of Dai',\n",
       " '90s Love',\n",
       " 'Youth',\n",
       " 'The Eve',\n",
       " 'AYAYAYA',\n",
       " 'A Rainy Dawn',\n",
       " 'Secret',\n",
       " 'Spirit of Ink',\n",
       " 'PINKCHELLA',\n",
       " 'Big Fish',\n",
       " 'VENI VIDI VICI',\n",
       " 'Autumn Ripples',\n",
       " 'Butterfly',\n",
       " 'Broken Melodies',\n",
       " 'The Call of the Past',\n",
       " 'Teddy Bear',\n",
       " 'Blue']"
      ]
     },
     "execution_count": 16,
     "metadata": {},
     "output_type": "execute_result"
    }
   ],
   "source": [
    "# copied from master roster for ease\n",
    "dance_list = 'Exec Interlude\\tSuper\tDreams of Dai\t90s Love\tYouth\tThe Eve\tAYAYAYA\tA Rainy Dawn\tSecret\tSpirit of Ink\tPINKCHELLA\tBig Fish\tVENI VIDI VICI\tAutumn Ripples\tButterfly\tBroken Melodies\tThe Call of the Past\tTeddy Bear\tBlue'\n",
    "dances = dance_list.split('\\t')\n",
    "dances"
   ]
  },
  {
   "cell_type": "markdown",
   "metadata": {},
   "source": [
    "# Imports\n",
    "If you do not have the packages, use pip install"
   ]
  },
  {
   "cell_type": "code",
   "execution_count": 12,
   "metadata": {},
   "outputs": [],
   "source": [
    "# %pip install gspread oauth2client\n",
    "import gspread\n",
    "from oauth2client.service_account import ServiceAccountCredentials\n",
    "import copy"
   ]
  },
  {
   "cell_type": "markdown",
   "metadata": {},
   "source": [
    "# Generator\n",
    "No need to touch below. Just run and the conflict matrix will exist (hopefully)\n",
    "\n",
    "**WARNING: the code is EXTREMELY sensitive to incorrect time strings. Either make sure to check edited responses do not have extra spaces, commas, etc, or make code more robust.**"
   ]
  },
  {
   "cell_type": "code",
   "execution_count": 51,
   "metadata": {},
   "outputs": [
    {
     "name": "stdout",
     "output_type": "stream",
     "text": [
      "time strings ['8:00 - 8:30 AM', '8:30 - 9:00 AM', '9:00 - 9:30 AM', '9:30 - 10:00 AM', '10:00 - 10:30 AM', '10:30 - 11:00 AM', '11:00 - 11:30 AM', '11:30 - 12:00 PM', '12:00 - 12:30 PM', '12:30 - 1:00 PM', '1:00 - 1:30 PM', '1:30 - 2:00 PM', '2:00 - 2:30 PM', '2:30 - 3:00 PM', '3:00 - 3:30 PM', '3:30 - 4:00 PM', '4:00 - 4:30 PM', '4:30 - 5:00 PM', '5:00 - 5:30 PM', '5:30 - 6:00 PM', '6:00 - 6:30 PM', '6:30 - 7:00 PM', '7:00 - 7:30 PM', '7:30 - 8:00 PM', '8:00 - 8:30 PM', '8:30 - 9:00 PM', '9:00 - 9:30 PM', '9:30 - 10:00 PM', '10:00 - 10:30 PM', '10:30 - 11:00 PM', '11:00 - 11:30 PM', '11:30 - 12:00 AM']\n",
      "[['', 'Exec Interlude', 'Super', 'Dreams of Dai', '90s Love', 'Youth', 'The Eve', 'AYAYAYA', 'A Rainy Dawn', 'Secret', 'Spirit of Ink', 'PINKCHELLA', 'Big Fish', 'VENI VIDI VICI', 'Autumn Ripples', 'Butterfly', 'Broken Melodies', 'The Call of the Past', 'Teddy Bear', 'Blue'], ['8:00 - 8:30 AM', None, None, None, None, None, None, None, None, None, None, None, None, None, None, None, None, None, None, None], ['8:30 - 9:00 AM', None, None, None, None, None, None, None, None, None, None, None, None, None, None, None, None, None, None, None], ['9:00 - 9:30 AM', None, None, None, None, None, None, None, None, None, None, None, None, None, None, None, None, None, None, None], ['9:30 - 10:00 AM', None, None, None, None, None, None, None, None, None, None, None, None, None, None, None, None, None, None, None], ['10:00 - 10:30 AM', None, None, None, None, None, None, None, None, None, None, None, None, None, None, None, None, None, None, None], ['10:30 - 11:00 AM', None, None, None, None, None, None, None, None, None, None, None, None, None, None, None, None, None, None, None], ['11:00 - 11:30 AM', None, None, None, None, None, None, None, None, None, None, None, None, None, None, None, None, None, None, None], ['11:30 - 12:00 PM', None, None, None, None, None, None, None, None, None, None, None, None, None, None, None, None, None, None, None], ['12:00 - 12:30 PM', None, None, None, None, None, None, None, None, None, None, None, None, None, None, None, None, None, None, None], ['12:30 - 1:00 PM', None, None, None, None, None, None, None, None, None, None, None, None, None, None, None, None, None, None, None], ['1:00 - 1:30 PM', None, None, None, None, None, None, None, None, None, None, None, None, None, None, None, None, None, None, None], ['1:30 - 2:00 PM', None, None, None, None, None, None, None, None, None, None, None, None, None, None, None, None, None, None, None], ['2:00 - 2:30 PM', None, None, None, None, None, None, None, None, None, None, None, None, None, None, None, None, None, None, None], ['2:30 - 3:00 PM', None, None, None, None, None, None, None, None, None, None, None, None, None, None, None, None, None, None, None], ['3:00 - 3:30 PM', None, None, None, None, None, None, None, None, None, None, None, None, None, None, None, None, None, None, None], ['3:30 - 4:00 PM', None, None, None, None, None, None, None, None, None, None, None, None, None, None, None, None, None, None, None], ['4:00 - 4:30 PM', None, None, None, None, None, None, None, None, None, None, None, None, None, None, None, None, None, None, None], ['4:30 - 5:00 PM', None, None, None, None, None, None, None, None, None, None, None, None, None, None, None, None, None, None, None], ['5:00 - 5:30 PM', None, None, None, None, None, None, None, None, None, None, None, None, None, None, None, None, None, None, None], ['5:30 - 6:00 PM', None, None, None, None, None, None, None, None, None, None, None, None, None, None, None, None, None, None, None], ['6:00 - 6:30 PM', None, None, None, None, None, None, None, None, None, None, None, None, None, None, None, None, None, None, None], ['6:30 - 7:00 PM', None, None, None, None, None, None, None, None, None, None, None, None, None, None, None, None, None, None, None], ['7:00 - 7:30 PM', None, None, None, None, None, None, None, None, None, None, None, None, None, None, None, None, None, None, None], ['7:30 - 8:00 PM', None, None, None, None, None, None, None, None, None, None, None, None, None, None, None, None, None, None, None], ['8:00 - 8:30 PM', None, None, None, None, None, None, None, None, None, None, None, None, None, None, None, None, None, None, None], ['8:30 - 9:00 PM', None, None, None, None, None, None, None, None, None, None, None, None, None, None, None, None, None, None, None], ['9:00 - 9:30 PM', None, None, None, None, None, None, None, None, None, None, None, None, None, None, None, None, None, None, None], ['9:30 - 10:00 PM', None, None, None, None, None, None, None, None, None, None, None, None, None, None, None, None, None, None, None], ['10:00 - 10:30 PM', None, None, None, None, None, None, None, None, None, None, None, None, None, None, None, None, None, None, None], ['10:30 - 11:00 PM', None, None, None, None, None, None, None, None, None, None, None, None, None, None, None, None, None, None, None], ['11:00 - 11:30 PM', None, None, None, None, None, None, None, None, None, None, None, None, None, None, None, None, None, None, None], ['11:30 - 12:00 AM', None, None, None, None, None, None, None, None, None, None, None, None, None, None, None, None, None, None, None]]\n"
     ]
    },
    {
     "name": "stderr",
     "output_type": "stream",
     "text": [
      "C:\\Users\\jiefi\\AppData\\Local\\Temp\\ipykernel_44108\\3494155121.py:127: DeprecationWarning: [Deprecated][in version 6.0.0]: Method signature's arguments 'range_name' and 'values' will change their order. We recommend using named arguments for minimal impact. In addition, the argument 'values' will be mandatory of type: 'List[List]'. (ex) Worksheet.update(values = [[]], range_name=) \n",
      "  cleaning_conflicts_matrix_sheet.update('A1:Z35', cleaning_conflict_matrix)\n",
      "C:\\Users\\jiefi\\AppData\\Local\\Temp\\ipykernel_44108\\3494155121.py:128: DeprecationWarning: [Deprecated][in version 6.0.0]: Method signature's arguments 'range_name' and 'values' will change their order. We recommend using named arguments for minimal impact. In addition, the argument 'values' will be mandatory of type: 'List[List]'. (ex) Worksheet.update(values = [[]], range_name=) \n",
      "  cleaning_excuses_matrix_sheet.update('A1:Z35', cleaning_excuse_matrix)\n",
      "C:\\Users\\jiefi\\AppData\\Local\\Temp\\ipykernel_44108\\3494155121.py:129: DeprecationWarning: [Deprecated][in version 6.0.0]: Method signature's arguments 'range_name' and 'values' will change their order. We recommend using named arguments for minimal impact. In addition, the argument 'values' will be mandatory of type: 'List[List]'. (ex) Worksheet.update(values = [[]], range_name=) \n",
      "  staging_conflicts_matrix_sheet.update('A1:Z35', staging_conflict_matrix)\n",
      "C:\\Users\\jiefi\\AppData\\Local\\Temp\\ipykernel_44108\\3494155121.py:130: DeprecationWarning: [Deprecated][in version 6.0.0]: Method signature's arguments 'range_name' and 'values' will change their order. We recommend using named arguments for minimal impact. In addition, the argument 'values' will be mandatory of type: 'List[List]'. (ex) Worksheet.update(values = [[]], range_name=) \n",
      "  staging_excuses_matrix_sheet.update('A1:Z35', staging_excuse_matrix)\n"
     ]
    },
    {
     "data": {
      "text/plain": [
       "{'spreadsheetId': '10KVCyJiD4HxJVoHL2LxpJRX_ghexP57DQYIX1k08wqg',\n",
       " 'updatedRange': \"'(edited) staging excuses matrix'!A1:T33\",\n",
       " 'updatedRows': 33,\n",
       " 'updatedColumns': 20,\n",
       " 'updatedCells': 660}"
      ]
     },
     "execution_count": 51,
     "metadata": {},
     "output_type": "execute_result"
    }
   ],
   "source": [
    "# use creds to create a client to interact with the Google Drive API --------------------------------------------------\n",
    "scope = ['https://spreadsheets.google.com/feeds',\n",
    "         'https://www.googleapis.com/auth/drive']\n",
    "creds = ServiceAccountCredentials.from_json_keyfile_name('client_secret.json', scope)\n",
    "client = gspread.authorize(creds)\n",
    "spreadsheet = client.open(sheet_name)\n",
    "responses_sheet = spreadsheet.worksheet(response_worksheet_name)\n",
    "\n",
    "worksheet_names = ['cleaning conflicts matrix', 'cleaning excuses matrix', 'staging conflicts matrix', 'staging excuses matrix']\n",
    "if named:\n",
    "    tmp = [name_of_run+\" \"+nm for nm in worksheet_names]\n",
    "    worksheet_names = tmp\n",
    "\n",
    "if create_new_worksheet:\n",
    "    # if the spreadsheet already exists, cannot write/create a new one by the same name (set create_new_worksheet = False to edit existing sheet)\n",
    "    cleaning_conflicts_matrix_sheet, cleaning_excuses_matrix_sheet, staging_conflicts_matrix_sheet, staging_excuses_matrix_sheet = [spreadsheet.add_worksheet(title=nm, rows=400, cols=22) for nm in worksheet_names]\n",
    "else:\n",
    "    # make sure the name actually exists tho\n",
    "    cleaning_conflicts_matrix_sheet, cleaning_excuses_matrix_sheet, staging_conflicts_matrix_sheet, staging_excuses_matrix_sheet = [spreadsheet.worksheet(nm) for nm in worksheet_names]\n",
    "\n",
    "worksheets = [cleaning_conflicts_matrix_sheet, cleaning_excuses_matrix_sheet, staging_conflicts_matrix_sheet, staging_excuses_matrix_sheet]\n",
    "[wk.clear() for wk in worksheets]\n",
    "\n",
    "first_response_row = 2\n",
    "last_response_row = len(responses_sheet.get_all_values()) # assumes that all the previous rows filled in\n",
    "\n",
    "# codeeee --------------------------------------------------\n",
    "\n",
    "responses_list_of_lists = responses_sheet.get_all_values()\n",
    "times_str = \"8:00 - 8:30 AM, 8:30 - 9:00 AM, 9:00 - 9:30 AM, 9:30 - 10:00 AM, 10:00 - 10:30 AM, 10:30 - 11:00 AM, 11:00 - 11:30 AM, 11:30 - 12:00 PM, 12:00 - 12:30 PM, 12:30 - 1:00 PM, 1:00 - 1:30 PM, 1:30 - 2:00 PM, 2:00 - 2:30 PM, 2:30 - 3:00 PM, 3:00 - 3:30 PM, 3:30 - 4:00 PM, 4:00 - 4:30 PM, 4:30 - 5:00 PM, 5:00 - 5:30 PM, 5:30 - 6:00 PM, 6:00 - 6:30 PM, 6:30 - 7:00 PM, 7:00 - 7:30 PM, 7:30 - 8:00 PM, 8:00 - 8:30 PM, 8:30 - 9:00 PM, 9:00 - 9:30 PM, 9:30 - 10:00 PM, 10:00 - 10:30 PM, 10:30 - 11:00 PM, 11:00 - 11:30 PM, 11:30 - 12:00 AM\"\n",
    "times = times_str.split(', ')\n",
    "\n",
    "\n",
    "#sorry brain dead this is spaghetti code so sorry\n",
    "cleaning_conflict_matrix = [[t] for t in times]\n",
    "none = [None] * len(dances)\n",
    "for row in cleaning_conflict_matrix:\n",
    "    row.extend([None]*len(dances))\n",
    "header = ['']\n",
    "header.extend(dances)\n",
    "header = [header]\n",
    "header.extend(cleaning_conflict_matrix)\n",
    "cleaning_conflict_matrix = header\n",
    "\n",
    "dance_ind = {}\n",
    "for dance in dances:\n",
    "    dance_ind[dance] = cleaning_conflict_matrix[0].index(dance)\n",
    "\n",
    "time_ind = {}\n",
    "for i in range(1, len(cleaning_conflict_matrix)):\n",
    "    time_ind[cleaning_conflict_matrix[i][0]] = i\n",
    "    \n",
    "cleaning_excuse_matrix = copy.deepcopy(cleaning_conflict_matrix)\n",
    "staging_conflict_matrix = copy.deepcopy(cleaning_conflict_matrix)\n",
    "staging_excuse_matrix = copy.deepcopy(cleaning_conflict_matrix)\n",
    "    \n",
    "\n",
    "for row_ind in range(first_response_row,last_response_row):\n",
    "    row = responses_list_of_lists[row_ind]\n",
    "    name = row[2]\n",
    "    relevant_dances = row[4].split(\", \")\n",
    "    cleaning_conflict_times = row[5].split(\", \")\n",
    "    cleaning_excuse = row[6]\n",
    "    staging_conflict_times = row[7].split(\", \")\n",
    "    staging_excuse = row[8]\n",
    "\n",
    "    \n",
    "    # print(\"the times\", cleaning_conflict_times)\n",
    "    for d in relevant_dances:\n",
    "        for ct in cleaning_conflict_times:\n",
    "            if ct == 'N/A':\n",
    "                continue\n",
    "            if not cleaning_conflict_matrix[time_ind[ct]][dance_ind[d]]:\n",
    "                cleaning_conflict_matrix[time_ind[ct]][dance_ind[d]] = 0\n",
    "                cleaning_excuse_matrix[time_ind[ct]][dance_ind[d]] = {\n",
    "                    'names': [], \n",
    "                    'excuses': [],\n",
    "                    }\n",
    "            cleaning_conflict_matrix[time_ind[ct]][dance_ind[d]] += 1\n",
    "            cleaning_excuse_matrix[time_ind[ct]][dance_ind[d]]['names'].append(name)\n",
    "            cleaning_excuse_matrix[time_ind[ct]][dance_ind[d]]['excuses'].append(cleaning_excuse)\n",
    "            \n",
    "        for st in staging_conflict_times:\n",
    "            if st == 'N/A':\n",
    "                continue\n",
    "            #print(\"LOOKING AT \", st, \"IN\", time_ind)\n",
    "            if not staging_conflict_matrix[time_ind[st]][dance_ind[d]]:\n",
    "                staging_conflict_matrix[time_ind[st]][dance_ind[d]] = 0\n",
    "                staging_excuse_matrix[time_ind[st]][dance_ind[d]] = {\n",
    "                    'names': [], \n",
    "                    'excuses': [],\n",
    "                    }\n",
    "            staging_conflict_matrix[time_ind[st]][dance_ind[d]] += 1\n",
    "            staging_excuse_matrix[time_ind[st]][dance_ind[d]]['names'].append(name)\n",
    "            staging_excuse_matrix[time_ind[st]][dance_ind[d]]['excuses'].append(staging_excuse)\n",
    "            \n",
    "for r, row in enumerate(cleaning_excuse_matrix):\n",
    "    for c, entry in enumerate(row):\n",
    "        if not entry:\n",
    "            cleaning_excuse_matrix[r][c] = ''\n",
    "        else:\n",
    "            cleaning_excuse_matrix[r][c] = str(entry)\n",
    "            \n",
    "for r, row in enumerate(staging_excuse_matrix):\n",
    "    for c, entry in enumerate(row):\n",
    "        if not entry:\n",
    "            staging_excuse_matrix[r][c] = ''\n",
    "        else:\n",
    "            staging_excuse_matrix[r][c] = str(entry)\n",
    "    \n",
    "cleaning_conflicts_matrix_sheet.update('A1:Z35', cleaning_conflict_matrix)\n",
    "cleaning_excuses_matrix_sheet.update('A1:Z35', cleaning_excuse_matrix)\n",
    "staging_conflicts_matrix_sheet.update('A1:Z35', staging_conflict_matrix)\n",
    "staging_excuses_matrix_sheet.update('A1:Z35', staging_excuse_matrix)\n",
    "\n",
    "    \n",
    "    "
   ]
  }
 ],
 "metadata": {
  "kernelspec": {
   "display_name": "Python 3",
   "language": "python",
   "name": "python3"
  },
  "language_info": {
   "codemirror_mode": {
    "name": "ipython",
    "version": 3
   },
   "file_extension": ".py",
   "mimetype": "text/x-python",
   "name": "python",
   "nbconvert_exporter": "python",
   "pygments_lexer": "ipython3",
   "version": "3.10.11"
  }
 },
 "nbformat": 4,
 "nbformat_minor": 2
}
